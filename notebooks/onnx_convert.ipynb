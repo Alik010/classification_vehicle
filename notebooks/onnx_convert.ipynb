{
 "cells": [
  {
   "cell_type": "markdown",
   "id": "0",
   "metadata": {},
   "source": [
    "# Convert model to onnx"
   ]
  },
  {
   "cell_type": "code",
   "execution_count": 1,
   "id": "1",
   "metadata": {
    "ExecuteTime": {
     "end_time": "2024-09-16T09:10:00.000249400Z",
     "start_time": "2024-09-16T09:09:48.523808300Z"
    }
   },
   "outputs": [],
   "source": [
    "import torch.onnx\n",
    "import onnx\n",
    "import torch\n",
    "from torch.autograd import Variable\n",
    "from src.models.vehicle_module import VehicleModule"
   ]
  },
  {
   "cell_type": "code",
   "execution_count": 2,
   "id": "2",
   "metadata": {
    "ExecuteTime": {
     "end_time": "2024-09-16T09:10:02.549792200Z",
     "start_time": "2024-09-16T09:10:02.522721100Z"
    }
   },
   "outputs": [],
   "source": [
    "checkpoint_name = r\"../logs/train/runs/2024-09-12_07-22-19/checkpoints/epoch_065.ckpt\"\n",
    "ONNX_MODEL_NAME = \"onnx/cls_vehicle.onnx\"\n",
    "DEVICE = 'cpu'"
   ]
  },
  {
   "cell_type": "code",
   "execution_count": 3,
   "id": "3",
   "metadata": {
    "ExecuteTime": {
     "end_time": "2024-09-16T09:10:06.161807100Z",
     "start_time": "2024-09-16T09:10:04.013512600Z"
    }
   },
   "outputs": [
    {
     "name": "stderr",
     "output_type": "stream",
     "text": [
      "C:\\Users\\aliko\\PycharmProjects\\cls_vehicle\\.venv\\Lib\\site-packages\\lightning\\pytorch\\utilities\\parsing.py:208: Attribute 'net' is an instance of `nn.Module` and is already saved during checkpointing. It is recommended to ignore them using `self.save_hyperparameters(ignore=['net'])`.\n",
      "C:\\Users\\aliko\\PycharmProjects\\cls_vehicle\\.venv\\Lib\\site-packages\\lightning\\pytorch\\utilities\\parsing.py:208: Attribute 'criterion' is an instance of `nn.Module` and is already saved during checkpointing. It is recommended to ignore them using `self.save_hyperparameters(ignore=['criterion'])`.\n"
     ]
    },
    {
     "data": {
      "text/plain": "VehicleModule(\n  (net): MobileNetV4(\n    (model): MobileNetV3(\n      (conv_stem): Conv2d(3, 32, kernel_size=(3, 3), stride=(2, 2), padding=(1, 1), bias=False)\n      (bn1): BatchNormAct2d(\n        32, eps=1e-05, momentum=0.1, affine=True, track_running_stats=True\n        (drop): Identity()\n        (act): ReLU(inplace=True)\n      )\n      (blocks): Sequential(\n        (0): Sequential(\n          (0): ConvBnAct(\n            (conv): Conv2d(32, 32, kernel_size=(3, 3), stride=(2, 2), padding=(1, 1), bias=False)\n            (bn1): BatchNormAct2d(\n              32, eps=1e-05, momentum=0.1, affine=True, track_running_stats=True\n              (drop): Identity()\n              (act): ReLU(inplace=True)\n            )\n            (aa): Identity()\n            (drop_path): Identity()\n          )\n          (1): ConvBnAct(\n            (conv): Conv2d(32, 32, kernel_size=(1, 1), stride=(1, 1), bias=False)\n            (bn1): BatchNormAct2d(\n              32, eps=1e-05, momentum=0.1, affine=True, track_running_stats=True\n              (drop): Identity()\n              (act): ReLU(inplace=True)\n            )\n            (aa): Identity()\n            (drop_path): Identity()\n          )\n        )\n        (1): Sequential(\n          (0): ConvBnAct(\n            (conv): Conv2d(32, 96, kernel_size=(3, 3), stride=(2, 2), padding=(1, 1), bias=False)\n            (bn1): BatchNormAct2d(\n              96, eps=1e-05, momentum=0.1, affine=True, track_running_stats=True\n              (drop): Identity()\n              (act): ReLU(inplace=True)\n            )\n            (aa): Identity()\n            (drop_path): Identity()\n          )\n          (1): ConvBnAct(\n            (conv): Conv2d(96, 64, kernel_size=(1, 1), stride=(1, 1), bias=False)\n            (bn1): BatchNormAct2d(\n              64, eps=1e-05, momentum=0.1, affine=True, track_running_stats=True\n              (drop): Identity()\n              (act): ReLU(inplace=True)\n            )\n            (aa): Identity()\n            (drop_path): Identity()\n          )\n        )\n        (2): Sequential(\n          (0): UniversalInvertedResidual(\n            (dw_start): ConvNormAct(\n              (conv): Conv2d(64, 64, kernel_size=(5, 5), stride=(1, 1), padding=(2, 2), groups=64, bias=False)\n              (bn): BatchNormAct2d(\n                64, eps=1e-05, momentum=0.1, affine=True, track_running_stats=True\n                (drop): Identity()\n                (act): Identity()\n              )\n            )\n            (pw_exp): ConvNormAct(\n              (conv): Conv2d(64, 192, kernel_size=(1, 1), stride=(1, 1), bias=False)\n              (bn): BatchNormAct2d(\n                192, eps=1e-05, momentum=0.1, affine=True, track_running_stats=True\n                (drop): Identity()\n                (act): ReLU(inplace=True)\n              )\n            )\n            (dw_mid): ConvNormAct(\n              (conv): Conv2d(192, 192, kernel_size=(5, 5), stride=(2, 2), padding=(2, 2), groups=192, bias=False)\n              (bn): BatchNormAct2d(\n                192, eps=1e-05, momentum=0.1, affine=True, track_running_stats=True\n                (drop): Identity()\n                (act): ReLU(inplace=True)\n              )\n            )\n            (se): Identity()\n            (pw_proj): ConvNormAct(\n              (conv): Conv2d(192, 96, kernel_size=(1, 1), stride=(1, 1), bias=False)\n              (bn): BatchNormAct2d(\n                96, eps=1e-05, momentum=0.1, affine=True, track_running_stats=True\n                (drop): Identity()\n                (act): Identity()\n              )\n            )\n            (dw_end): Identity()\n            (layer_scale): Identity()\n            (drop_path): Identity()\n          )\n          (1): UniversalInvertedResidual(\n            (dw_start): Identity()\n            (pw_exp): ConvNormAct(\n              (conv): Conv2d(96, 192, kernel_size=(1, 1), stride=(1, 1), bias=False)\n              (bn): BatchNormAct2d(\n                192, eps=1e-05, momentum=0.1, affine=True, track_running_stats=True\n                (drop): Identity()\n                (act): ReLU(inplace=True)\n              )\n            )\n            (dw_mid): ConvNormAct(\n              (conv): Conv2d(192, 192, kernel_size=(3, 3), stride=(1, 1), padding=(1, 1), groups=192, bias=False)\n              (bn): BatchNormAct2d(\n                192, eps=1e-05, momentum=0.1, affine=True, track_running_stats=True\n                (drop): Identity()\n                (act): ReLU(inplace=True)\n              )\n            )\n            (se): Identity()\n            (pw_proj): ConvNormAct(\n              (conv): Conv2d(192, 96, kernel_size=(1, 1), stride=(1, 1), bias=False)\n              (bn): BatchNormAct2d(\n                96, eps=1e-05, momentum=0.1, affine=True, track_running_stats=True\n                (drop): Identity()\n                (act): Identity()\n              )\n            )\n            (dw_end): Identity()\n            (layer_scale): Identity()\n            (drop_path): Identity()\n          )\n          (2): UniversalInvertedResidual(\n            (dw_start): Identity()\n            (pw_exp): ConvNormAct(\n              (conv): Conv2d(96, 192, kernel_size=(1, 1), stride=(1, 1), bias=False)\n              (bn): BatchNormAct2d(\n                192, eps=1e-05, momentum=0.1, affine=True, track_running_stats=True\n                (drop): Identity()\n                (act): ReLU(inplace=True)\n              )\n            )\n            (dw_mid): ConvNormAct(\n              (conv): Conv2d(192, 192, kernel_size=(3, 3), stride=(1, 1), padding=(1, 1), groups=192, bias=False)\n              (bn): BatchNormAct2d(\n                192, eps=1e-05, momentum=0.1, affine=True, track_running_stats=True\n                (drop): Identity()\n                (act): ReLU(inplace=True)\n              )\n            )\n            (se): Identity()\n            (pw_proj): ConvNormAct(\n              (conv): Conv2d(192, 96, kernel_size=(1, 1), stride=(1, 1), bias=False)\n              (bn): BatchNormAct2d(\n                96, eps=1e-05, momentum=0.1, affine=True, track_running_stats=True\n                (drop): Identity()\n                (act): Identity()\n              )\n            )\n            (dw_end): Identity()\n            (layer_scale): Identity()\n            (drop_path): Identity()\n          )\n          (3): UniversalInvertedResidual(\n            (dw_start): Identity()\n            (pw_exp): ConvNormAct(\n              (conv): Conv2d(96, 192, kernel_size=(1, 1), stride=(1, 1), bias=False)\n              (bn): BatchNormAct2d(\n                192, eps=1e-05, momentum=0.1, affine=True, track_running_stats=True\n                (drop): Identity()\n                (act): ReLU(inplace=True)\n              )\n            )\n            (dw_mid): ConvNormAct(\n              (conv): Conv2d(192, 192, kernel_size=(3, 3), stride=(1, 1), padding=(1, 1), groups=192, bias=False)\n              (bn): BatchNormAct2d(\n                192, eps=1e-05, momentum=0.1, affine=True, track_running_stats=True\n                (drop): Identity()\n                (act): ReLU(inplace=True)\n              )\n            )\n            (se): Identity()\n            (pw_proj): ConvNormAct(\n              (conv): Conv2d(192, 96, kernel_size=(1, 1), stride=(1, 1), bias=False)\n              (bn): BatchNormAct2d(\n                96, eps=1e-05, momentum=0.1, affine=True, track_running_stats=True\n                (drop): Identity()\n                (act): Identity()\n              )\n            )\n            (dw_end): Identity()\n            (layer_scale): Identity()\n            (drop_path): Identity()\n          )\n          (4): UniversalInvertedResidual(\n            (dw_start): Identity()\n            (pw_exp): ConvNormAct(\n              (conv): Conv2d(96, 192, kernel_size=(1, 1), stride=(1, 1), bias=False)\n              (bn): BatchNormAct2d(\n                192, eps=1e-05, momentum=0.1, affine=True, track_running_stats=True\n                (drop): Identity()\n                (act): ReLU(inplace=True)\n              )\n            )\n            (dw_mid): ConvNormAct(\n              (conv): Conv2d(192, 192, kernel_size=(3, 3), stride=(1, 1), padding=(1, 1), groups=192, bias=False)\n              (bn): BatchNormAct2d(\n                192, eps=1e-05, momentum=0.1, affine=True, track_running_stats=True\n                (drop): Identity()\n                (act): ReLU(inplace=True)\n              )\n            )\n            (se): Identity()\n            (pw_proj): ConvNormAct(\n              (conv): Conv2d(192, 96, kernel_size=(1, 1), stride=(1, 1), bias=False)\n              (bn): BatchNormAct2d(\n                96, eps=1e-05, momentum=0.1, affine=True, track_running_stats=True\n                (drop): Identity()\n                (act): Identity()\n              )\n            )\n            (dw_end): Identity()\n            (layer_scale): Identity()\n            (drop_path): Identity()\n          )\n          (5): UniversalInvertedResidual(\n            (dw_start): ConvNormAct(\n              (conv): Conv2d(96, 96, kernel_size=(3, 3), stride=(1, 1), padding=(1, 1), groups=96, bias=False)\n              (bn): BatchNormAct2d(\n                96, eps=1e-05, momentum=0.1, affine=True, track_running_stats=True\n                (drop): Identity()\n                (act): Identity()\n              )\n            )\n            (pw_exp): ConvNormAct(\n              (conv): Conv2d(96, 384, kernel_size=(1, 1), stride=(1, 1), bias=False)\n              (bn): BatchNormAct2d(\n                384, eps=1e-05, momentum=0.1, affine=True, track_running_stats=True\n                (drop): Identity()\n                (act): ReLU(inplace=True)\n              )\n            )\n            (dw_mid): Identity()\n            (se): Identity()\n            (pw_proj): ConvNormAct(\n              (conv): Conv2d(384, 96, kernel_size=(1, 1), stride=(1, 1), bias=False)\n              (bn): BatchNormAct2d(\n                96, eps=1e-05, momentum=0.1, affine=True, track_running_stats=True\n                (drop): Identity()\n                (act): Identity()\n              )\n            )\n            (dw_end): Identity()\n            (layer_scale): Identity()\n            (drop_path): Identity()\n          )\n        )\n        (3): Sequential(\n          (0): UniversalInvertedResidual(\n            (dw_start): ConvNormAct(\n              (conv): Conv2d(96, 96, kernel_size=(3, 3), stride=(1, 1), padding=(1, 1), groups=96, bias=False)\n              (bn): BatchNormAct2d(\n                96, eps=1e-05, momentum=0.1, affine=True, track_running_stats=True\n                (drop): Identity()\n                (act): Identity()\n              )\n            )\n            (pw_exp): ConvNormAct(\n              (conv): Conv2d(96, 576, kernel_size=(1, 1), stride=(1, 1), bias=False)\n              (bn): BatchNormAct2d(\n                576, eps=1e-05, momentum=0.1, affine=True, track_running_stats=True\n                (drop): Identity()\n                (act): ReLU(inplace=True)\n              )\n            )\n            (dw_mid): ConvNormAct(\n              (conv): Conv2d(576, 576, kernel_size=(3, 3), stride=(2, 2), padding=(1, 1), groups=576, bias=False)\n              (bn): BatchNormAct2d(\n                576, eps=1e-05, momentum=0.1, affine=True, track_running_stats=True\n                (drop): Identity()\n                (act): ReLU(inplace=True)\n              )\n            )\n            (se): Identity()\n            (pw_proj): ConvNormAct(\n              (conv): Conv2d(576, 128, kernel_size=(1, 1), stride=(1, 1), bias=False)\n              (bn): BatchNormAct2d(\n                128, eps=1e-05, momentum=0.1, affine=True, track_running_stats=True\n                (drop): Identity()\n                (act): Identity()\n              )\n            )\n            (dw_end): Identity()\n            (layer_scale): Identity()\n            (drop_path): Identity()\n          )\n          (1): UniversalInvertedResidual(\n            (dw_start): ConvNormAct(\n              (conv): Conv2d(128, 128, kernel_size=(5, 5), stride=(1, 1), padding=(2, 2), groups=128, bias=False)\n              (bn): BatchNormAct2d(\n                128, eps=1e-05, momentum=0.1, affine=True, track_running_stats=True\n                (drop): Identity()\n                (act): Identity()\n              )\n            )\n            (pw_exp): ConvNormAct(\n              (conv): Conv2d(128, 512, kernel_size=(1, 1), stride=(1, 1), bias=False)\n              (bn): BatchNormAct2d(\n                512, eps=1e-05, momentum=0.1, affine=True, track_running_stats=True\n                (drop): Identity()\n                (act): ReLU(inplace=True)\n              )\n            )\n            (dw_mid): ConvNormAct(\n              (conv): Conv2d(512, 512, kernel_size=(5, 5), stride=(1, 1), padding=(2, 2), groups=512, bias=False)\n              (bn): BatchNormAct2d(\n                512, eps=1e-05, momentum=0.1, affine=True, track_running_stats=True\n                (drop): Identity()\n                (act): ReLU(inplace=True)\n              )\n            )\n            (se): Identity()\n            (pw_proj): ConvNormAct(\n              (conv): Conv2d(512, 128, kernel_size=(1, 1), stride=(1, 1), bias=False)\n              (bn): BatchNormAct2d(\n                128, eps=1e-05, momentum=0.1, affine=True, track_running_stats=True\n                (drop): Identity()\n                (act): Identity()\n              )\n            )\n            (dw_end): Identity()\n            (layer_scale): Identity()\n            (drop_path): Identity()\n          )\n          (2): UniversalInvertedResidual(\n            (dw_start): Identity()\n            (pw_exp): ConvNormAct(\n              (conv): Conv2d(128, 512, kernel_size=(1, 1), stride=(1, 1), bias=False)\n              (bn): BatchNormAct2d(\n                512, eps=1e-05, momentum=0.1, affine=True, track_running_stats=True\n                (drop): Identity()\n                (act): ReLU(inplace=True)\n              )\n            )\n            (dw_mid): ConvNormAct(\n              (conv): Conv2d(512, 512, kernel_size=(5, 5), stride=(1, 1), padding=(2, 2), groups=512, bias=False)\n              (bn): BatchNormAct2d(\n                512, eps=1e-05, momentum=0.1, affine=True, track_running_stats=True\n                (drop): Identity()\n                (act): ReLU(inplace=True)\n              )\n            )\n            (se): Identity()\n            (pw_proj): ConvNormAct(\n              (conv): Conv2d(512, 128, kernel_size=(1, 1), stride=(1, 1), bias=False)\n              (bn): BatchNormAct2d(\n                128, eps=1e-05, momentum=0.1, affine=True, track_running_stats=True\n                (drop): Identity()\n                (act): Identity()\n              )\n            )\n            (dw_end): Identity()\n            (layer_scale): Identity()\n            (drop_path): Identity()\n          )\n          (3): UniversalInvertedResidual(\n            (dw_start): Identity()\n            (pw_exp): ConvNormAct(\n              (conv): Conv2d(128, 384, kernel_size=(1, 1), stride=(1, 1), bias=False)\n              (bn): BatchNormAct2d(\n                384, eps=1e-05, momentum=0.1, affine=True, track_running_stats=True\n                (drop): Identity()\n                (act): ReLU(inplace=True)\n              )\n            )\n            (dw_mid): ConvNormAct(\n              (conv): Conv2d(384, 384, kernel_size=(5, 5), stride=(1, 1), padding=(2, 2), groups=384, bias=False)\n              (bn): BatchNormAct2d(\n                384, eps=1e-05, momentum=0.1, affine=True, track_running_stats=True\n                (drop): Identity()\n                (act): ReLU(inplace=True)\n              )\n            )\n            (se): Identity()\n            (pw_proj): ConvNormAct(\n              (conv): Conv2d(384, 128, kernel_size=(1, 1), stride=(1, 1), bias=False)\n              (bn): BatchNormAct2d(\n                128, eps=1e-05, momentum=0.1, affine=True, track_running_stats=True\n                (drop): Identity()\n                (act): Identity()\n              )\n            )\n            (dw_end): Identity()\n            (layer_scale): Identity()\n            (drop_path): Identity()\n          )\n          (4): UniversalInvertedResidual(\n            (dw_start): Identity()\n            (pw_exp): ConvNormAct(\n              (conv): Conv2d(128, 512, kernel_size=(1, 1), stride=(1, 1), bias=False)\n              (bn): BatchNormAct2d(\n                512, eps=1e-05, momentum=0.1, affine=True, track_running_stats=True\n                (drop): Identity()\n                (act): ReLU(inplace=True)\n              )\n            )\n            (dw_mid): ConvNormAct(\n              (conv): Conv2d(512, 512, kernel_size=(3, 3), stride=(1, 1), padding=(1, 1), groups=512, bias=False)\n              (bn): BatchNormAct2d(\n                512, eps=1e-05, momentum=0.1, affine=True, track_running_stats=True\n                (drop): Identity()\n                (act): ReLU(inplace=True)\n              )\n            )\n            (se): Identity()\n            (pw_proj): ConvNormAct(\n              (conv): Conv2d(512, 128, kernel_size=(1, 1), stride=(1, 1), bias=False)\n              (bn): BatchNormAct2d(\n                128, eps=1e-05, momentum=0.1, affine=True, track_running_stats=True\n                (drop): Identity()\n                (act): Identity()\n              )\n            )\n            (dw_end): Identity()\n            (layer_scale): Identity()\n            (drop_path): Identity()\n          )\n          (5): UniversalInvertedResidual(\n            (dw_start): Identity()\n            (pw_exp): ConvNormAct(\n              (conv): Conv2d(128, 512, kernel_size=(1, 1), stride=(1, 1), bias=False)\n              (bn): BatchNormAct2d(\n                512, eps=1e-05, momentum=0.1, affine=True, track_running_stats=True\n                (drop): Identity()\n                (act): ReLU(inplace=True)\n              )\n            )\n            (dw_mid): ConvNormAct(\n              (conv): Conv2d(512, 512, kernel_size=(3, 3), stride=(1, 1), padding=(1, 1), groups=512, bias=False)\n              (bn): BatchNormAct2d(\n                512, eps=1e-05, momentum=0.1, affine=True, track_running_stats=True\n                (drop): Identity()\n                (act): ReLU(inplace=True)\n              )\n            )\n            (se): Identity()\n            (pw_proj): ConvNormAct(\n              (conv): Conv2d(512, 128, kernel_size=(1, 1), stride=(1, 1), bias=False)\n              (bn): BatchNormAct2d(\n                128, eps=1e-05, momentum=0.1, affine=True, track_running_stats=True\n                (drop): Identity()\n                (act): Identity()\n              )\n            )\n            (dw_end): Identity()\n            (layer_scale): Identity()\n            (drop_path): Identity()\n          )\n        )\n        (4): Sequential(\n          (0): ConvBnAct(\n            (conv): Conv2d(128, 960, kernel_size=(1, 1), stride=(1, 1), bias=False)\n            (bn1): BatchNormAct2d(\n              960, eps=1e-05, momentum=0.1, affine=True, track_running_stats=True\n              (drop): Identity()\n              (act): ReLU(inplace=True)\n            )\n            (aa): Identity()\n            (drop_path): Identity()\n          )\n        )\n      )\n      (global_pool): SelectAdaptivePool2d(pool_type=avg, flatten=Identity())\n      (conv_head): Conv2d(960, 1280, kernel_size=(1, 1), stride=(1, 1), bias=False)\n      (norm_head): BatchNormAct2d(\n        1280, eps=1e-05, momentum=0.1, affine=True, track_running_stats=True\n        (drop): Identity()\n        (act): ReLU(inplace=True)\n      )\n      (act2): Identity()\n      (flatten): Flatten(start_dim=1, end_dim=-1)\n      (classifier): Linear(in_features=1280, out_features=7, bias=True)\n    )\n  )\n  (criterion): LabelSmoothingCrossEntropy()\n  (train_accuracy_metric): MulticlassAccuracy()\n  (train_precision_metric): MulticlassPrecision()\n  (train_recall_metric): MulticlassRecall()\n  (train_f1_metric): MulticlassF1Score()\n  (val_accuracy_metric): MulticlassAccuracy()\n  (val_precision_metric): MulticlassPrecision()\n  (val_recall_metric): MulticlassRecall()\n  (val_f1_metric): MulticlassF1Score()\n  (test_accuracy_metric): MulticlassAccuracy()\n  (test_precision_metric): MulticlassPrecision()\n  (test_recall_metric): MulticlassRecall()\n  (test_f1_metric): MulticlassF1Score()\n  (train_loss): MeanMetric()\n  (val_loss): MeanMetric()\n  (test_loss): MeanMetric()\n  (val_f1_best): MaxMetric()\n)"
     },
     "execution_count": 3,
     "metadata": {},
     "output_type": "execute_result"
    }
   ],
   "source": [
    "module = VehicleModule.load_from_checkpoint(checkpoint_name)\n",
    "module.eval()\n",
    "module.to(DEVICE)"
   ]
  },
  {
   "cell_type": "code",
   "execution_count": 4,
   "id": "4",
   "metadata": {
    "ExecuteTime": {
     "end_time": "2024-09-16T09:10:11.441541600Z",
     "start_time": "2024-09-16T09:10:10.388963300Z"
    }
   },
   "outputs": [
    {
     "name": "stderr",
     "output_type": "stream",
     "text": [
      "C:\\Users\\aliko\\PycharmProjects\\cls_vehicle\\.venv\\Lib\\site-packages\\torch\\onnx\\utils.py:2139: UserWarning: No names were found for specified dynamic axes of provided input.Automatically generated names will be applied to each dynamic axes of input input\n",
      "  warnings.warn(\n",
      "C:\\Users\\aliko\\PycharmProjects\\cls_vehicle\\.venv\\Lib\\site-packages\\torch\\onnx\\utils.py:2139: UserWarning: No names were found for specified dynamic axes of provided input.Automatically generated names will be applied to each dynamic axes of input output\n",
      "  warnings.warn(\n"
     ]
    }
   ],
   "source": [
    "dummy_input = torch.randn(1, 3, 224, 224, device=DEVICE)\n",
    "torch.onnx.export(module, dummy_input, ONNX_MODEL_NAME, verbose=True, input_names=['input'], output_names=['output'], dynamic_axes = {'input': [0], 'output': [0]})"
   ]
  },
  {
   "cell_type": "code",
   "execution_count": 5,
   "id": "5",
   "metadata": {
    "ExecuteTime": {
     "end_time": "2024-09-16T09:10:25.380590700Z",
     "start_time": "2024-09-16T09:10:25.277756100Z"
    }
   },
   "outputs": [
    {
     "name": "stdout",
     "output_type": "stream",
     "text": [
      "graph main_graph (\n",
      "  %input[FLOAT, input_dynamic_axes_1x3x224x224]\n",
      ") initializers (\n",
      "  %net.model.classifier.weight[FLOAT, 7x1280]\n",
      "  %net.model.classifier.bias[FLOAT, 7]\n",
      "  %onnx::Conv_415[FLOAT, 32x3x3x3]\n",
      "  %onnx::Conv_416[FLOAT, 32]\n",
      "  %onnx::Conv_418[FLOAT, 32x32x3x3]\n",
      "  %onnx::Conv_419[FLOAT, 32]\n",
      "  %onnx::Conv_421[FLOAT, 32x32x1x1]\n",
      "  %onnx::Conv_422[FLOAT, 32]\n",
      "  %onnx::Conv_424[FLOAT, 96x32x3x3]\n",
      "  %onnx::Conv_425[FLOAT, 96]\n",
      "  %onnx::Conv_427[FLOAT, 64x96x1x1]\n",
      "  %onnx::Conv_428[FLOAT, 64]\n",
      "  %onnx::Conv_430[FLOAT, 64x1x5x5]\n",
      "  %onnx::Conv_431[FLOAT, 64]\n",
      "  %onnx::Conv_433[FLOAT, 192x64x1x1]\n",
      "  %onnx::Conv_434[FLOAT, 192]\n",
      "  %onnx::Conv_436[FLOAT, 192x1x5x5]\n",
      "  %onnx::Conv_437[FLOAT, 192]\n",
      "  %onnx::Conv_439[FLOAT, 96x192x1x1]\n",
      "  %onnx::Conv_440[FLOAT, 96]\n",
      "  %onnx::Conv_442[FLOAT, 192x96x1x1]\n",
      "  %onnx::Conv_443[FLOAT, 192]\n",
      "  %onnx::Conv_445[FLOAT, 192x1x3x3]\n",
      "  %onnx::Conv_446[FLOAT, 192]\n",
      "  %onnx::Conv_448[FLOAT, 96x192x1x1]\n",
      "  %onnx::Conv_449[FLOAT, 96]\n",
      "  %onnx::Conv_451[FLOAT, 192x96x1x1]\n",
      "  %onnx::Conv_452[FLOAT, 192]\n",
      "  %onnx::Conv_454[FLOAT, 192x1x3x3]\n",
      "  %onnx::Conv_455[FLOAT, 192]\n",
      "  %onnx::Conv_457[FLOAT, 96x192x1x1]\n",
      "  %onnx::Conv_458[FLOAT, 96]\n",
      "  %onnx::Conv_460[FLOAT, 192x96x1x1]\n",
      "  %onnx::Conv_461[FLOAT, 192]\n",
      "  %onnx::Conv_463[FLOAT, 192x1x3x3]\n",
      "  %onnx::Conv_464[FLOAT, 192]\n",
      "  %onnx::Conv_466[FLOAT, 96x192x1x1]\n",
      "  %onnx::Conv_467[FLOAT, 96]\n",
      "  %onnx::Conv_469[FLOAT, 192x96x1x1]\n",
      "  %onnx::Conv_470[FLOAT, 192]\n",
      "  %onnx::Conv_472[FLOAT, 192x1x3x3]\n",
      "  %onnx::Conv_473[FLOAT, 192]\n",
      "  %onnx::Conv_475[FLOAT, 96x192x1x1]\n",
      "  %onnx::Conv_476[FLOAT, 96]\n",
      "  %onnx::Conv_478[FLOAT, 96x1x3x3]\n",
      "  %onnx::Conv_479[FLOAT, 96]\n",
      "  %onnx::Conv_481[FLOAT, 384x96x1x1]\n",
      "  %onnx::Conv_482[FLOAT, 384]\n",
      "  %onnx::Conv_484[FLOAT, 96x384x1x1]\n",
      "  %onnx::Conv_485[FLOAT, 96]\n",
      "  %onnx::Conv_487[FLOAT, 96x1x3x3]\n",
      "  %onnx::Conv_488[FLOAT, 96]\n",
      "  %onnx::Conv_490[FLOAT, 576x96x1x1]\n",
      "  %onnx::Conv_491[FLOAT, 576]\n",
      "  %onnx::Conv_493[FLOAT, 576x1x3x3]\n",
      "  %onnx::Conv_494[FLOAT, 576]\n",
      "  %onnx::Conv_496[FLOAT, 128x576x1x1]\n",
      "  %onnx::Conv_497[FLOAT, 128]\n",
      "  %onnx::Conv_499[FLOAT, 128x1x5x5]\n",
      "  %onnx::Conv_500[FLOAT, 128]\n",
      "  %onnx::Conv_502[FLOAT, 512x128x1x1]\n",
      "  %onnx::Conv_503[FLOAT, 512]\n",
      "  %onnx::Conv_505[FLOAT, 512x1x5x5]\n",
      "  %onnx::Conv_506[FLOAT, 512]\n",
      "  %onnx::Conv_508[FLOAT, 128x512x1x1]\n",
      "  %onnx::Conv_509[FLOAT, 128]\n",
      "  %onnx::Conv_511[FLOAT, 512x128x1x1]\n",
      "  %onnx::Conv_512[FLOAT, 512]\n",
      "  %onnx::Conv_514[FLOAT, 512x1x5x5]\n",
      "  %onnx::Conv_515[FLOAT, 512]\n",
      "  %onnx::Conv_517[FLOAT, 128x512x1x1]\n",
      "  %onnx::Conv_518[FLOAT, 128]\n",
      "  %onnx::Conv_520[FLOAT, 384x128x1x1]\n",
      "  %onnx::Conv_521[FLOAT, 384]\n",
      "  %onnx::Conv_523[FLOAT, 384x1x5x5]\n",
      "  %onnx::Conv_524[FLOAT, 384]\n",
      "  %onnx::Conv_526[FLOAT, 128x384x1x1]\n",
      "  %onnx::Conv_527[FLOAT, 128]\n",
      "  %onnx::Conv_529[FLOAT, 512x128x1x1]\n",
      "  %onnx::Conv_530[FLOAT, 512]\n",
      "  %onnx::Conv_532[FLOAT, 512x1x3x3]\n",
      "  %onnx::Conv_533[FLOAT, 512]\n",
      "  %onnx::Conv_535[FLOAT, 128x512x1x1]\n",
      "  %onnx::Conv_536[FLOAT, 128]\n",
      "  %onnx::Conv_538[FLOAT, 512x128x1x1]\n",
      "  %onnx::Conv_539[FLOAT, 512]\n",
      "  %onnx::Conv_541[FLOAT, 512x1x3x3]\n",
      "  %onnx::Conv_542[FLOAT, 512]\n",
      "  %onnx::Conv_544[FLOAT, 128x512x1x1]\n",
      "  %onnx::Conv_545[FLOAT, 128]\n",
      "  %onnx::Conv_547[FLOAT, 960x128x1x1]\n",
      "  %onnx::Conv_548[FLOAT, 960]\n",
      "  %onnx::Conv_550[FLOAT, 1280x960x1x1]\n",
      "  %onnx::Conv_551[FLOAT, 1280]\n",
      ") {\n",
      "  %/net/model/conv_stem/Conv_output_0 = Conv[dilations = [1, 1], group = 1, kernel_shape = [3, 3], pads = [1, 1, 1, 1], strides = [2, 2]](%input, %onnx::Conv_415, %onnx::Conv_416)\n",
      "  %/net/model/bn1/act/Relu_output_0 = Relu(%/net/model/conv_stem/Conv_output_0)\n",
      "  %/net/model/blocks/blocks.0/blocks.0.0/conv/Conv_output_0 = Conv[dilations = [1, 1], group = 1, kernel_shape = [3, 3], pads = [1, 1, 1, 1], strides = [2, 2]](%/net/model/bn1/act/Relu_output_0, %onnx::Conv_418, %onnx::Conv_419)\n",
      "  %/net/model/blocks/blocks.0/blocks.0.0/bn1/act/Relu_output_0 = Relu(%/net/model/blocks/blocks.0/blocks.0.0/conv/Conv_output_0)\n",
      "  %/net/model/blocks/blocks.0/blocks.0.1/conv/Conv_output_0 = Conv[dilations = [1, 1], group = 1, kernel_shape = [1, 1], pads = [0, 0, 0, 0], strides = [1, 1]](%/net/model/blocks/blocks.0/blocks.0.0/bn1/act/Relu_output_0, %onnx::Conv_421, %onnx::Conv_422)\n",
      "  %/net/model/blocks/blocks.0/blocks.0.1/bn1/act/Relu_output_0 = Relu(%/net/model/blocks/blocks.0/blocks.0.1/conv/Conv_output_0)\n",
      "  %/net/model/blocks/blocks.1/blocks.1.0/conv/Conv_output_0 = Conv[dilations = [1, 1], group = 1, kernel_shape = [3, 3], pads = [1, 1, 1, 1], strides = [2, 2]](%/net/model/blocks/blocks.0/blocks.0.1/bn1/act/Relu_output_0, %onnx::Conv_424, %onnx::Conv_425)\n",
      "  %/net/model/blocks/blocks.1/blocks.1.0/bn1/act/Relu_output_0 = Relu(%/net/model/blocks/blocks.1/blocks.1.0/conv/Conv_output_0)\n",
      "  %/net/model/blocks/blocks.1/blocks.1.1/conv/Conv_output_0 = Conv[dilations = [1, 1], group = 1, kernel_shape = [1, 1], pads = [0, 0, 0, 0], strides = [1, 1]](%/net/model/blocks/blocks.1/blocks.1.0/bn1/act/Relu_output_0, %onnx::Conv_427, %onnx::Conv_428)\n",
      "  %/net/model/blocks/blocks.1/blocks.1.1/bn1/act/Relu_output_0 = Relu(%/net/model/blocks/blocks.1/blocks.1.1/conv/Conv_output_0)\n",
      "  %/net/model/blocks/blocks.2/blocks.2.0/dw_start/conv/Conv_output_0 = Conv[dilations = [1, 1], group = 64, kernel_shape = [5, 5], pads = [2, 2, 2, 2], strides = [1, 1]](%/net/model/blocks/blocks.1/blocks.1.1/bn1/act/Relu_output_0, %onnx::Conv_430, %onnx::Conv_431)\n",
      "  %/net/model/blocks/blocks.2/blocks.2.0/pw_exp/conv/Conv_output_0 = Conv[dilations = [1, 1], group = 1, kernel_shape = [1, 1], pads = [0, 0, 0, 0], strides = [1, 1]](%/net/model/blocks/blocks.2/blocks.2.0/dw_start/conv/Conv_output_0, %onnx::Conv_433, %onnx::Conv_434)\n",
      "  %/net/model/blocks/blocks.2/blocks.2.0/pw_exp/bn/act/Relu_output_0 = Relu(%/net/model/blocks/blocks.2/blocks.2.0/pw_exp/conv/Conv_output_0)\n",
      "  %/net/model/blocks/blocks.2/blocks.2.0/dw_mid/conv/Conv_output_0 = Conv[dilations = [1, 1], group = 192, kernel_shape = [5, 5], pads = [2, 2, 2, 2], strides = [2, 2]](%/net/model/blocks/blocks.2/blocks.2.0/pw_exp/bn/act/Relu_output_0, %onnx::Conv_436, %onnx::Conv_437)\n",
      "  %/net/model/blocks/blocks.2/blocks.2.0/dw_mid/bn/act/Relu_output_0 = Relu(%/net/model/blocks/blocks.2/blocks.2.0/dw_mid/conv/Conv_output_0)\n",
      "  %/net/model/blocks/blocks.2/blocks.2.0/pw_proj/conv/Conv_output_0 = Conv[dilations = [1, 1], group = 1, kernel_shape = [1, 1], pads = [0, 0, 0, 0], strides = [1, 1]](%/net/model/blocks/blocks.2/blocks.2.0/dw_mid/bn/act/Relu_output_0, %onnx::Conv_439, %onnx::Conv_440)\n",
      "  %/net/model/blocks/blocks.2/blocks.2.1/pw_exp/conv/Conv_output_0 = Conv[dilations = [1, 1], group = 1, kernel_shape = [1, 1], pads = [0, 0, 0, 0], strides = [1, 1]](%/net/model/blocks/blocks.2/blocks.2.0/pw_proj/conv/Conv_output_0, %onnx::Conv_442, %onnx::Conv_443)\n",
      "  %/net/model/blocks/blocks.2/blocks.2.1/pw_exp/bn/act/Relu_output_0 = Relu(%/net/model/blocks/blocks.2/blocks.2.1/pw_exp/conv/Conv_output_0)\n",
      "  %/net/model/blocks/blocks.2/blocks.2.1/dw_mid/conv/Conv_output_0 = Conv[dilations = [1, 1], group = 192, kernel_shape = [3, 3], pads = [1, 1, 1, 1], strides = [1, 1]](%/net/model/blocks/blocks.2/blocks.2.1/pw_exp/bn/act/Relu_output_0, %onnx::Conv_445, %onnx::Conv_446)\n",
      "  %/net/model/blocks/blocks.2/blocks.2.1/dw_mid/bn/act/Relu_output_0 = Relu(%/net/model/blocks/blocks.2/blocks.2.1/dw_mid/conv/Conv_output_0)\n",
      "  %/net/model/blocks/blocks.2/blocks.2.1/pw_proj/conv/Conv_output_0 = Conv[dilations = [1, 1], group = 1, kernel_shape = [1, 1], pads = [0, 0, 0, 0], strides = [1, 1]](%/net/model/blocks/blocks.2/blocks.2.1/dw_mid/bn/act/Relu_output_0, %onnx::Conv_448, %onnx::Conv_449)\n",
      "  %/net/model/blocks/blocks.2/blocks.2.1/Add_output_0 = Add(%/net/model/blocks/blocks.2/blocks.2.1/pw_proj/conv/Conv_output_0, %/net/model/blocks/blocks.2/blocks.2.0/pw_proj/conv/Conv_output_0)\n",
      "  %/net/model/blocks/blocks.2/blocks.2.2/pw_exp/conv/Conv_output_0 = Conv[dilations = [1, 1], group = 1, kernel_shape = [1, 1], pads = [0, 0, 0, 0], strides = [1, 1]](%/net/model/blocks/blocks.2/blocks.2.1/Add_output_0, %onnx::Conv_451, %onnx::Conv_452)\n",
      "  %/net/model/blocks/blocks.2/blocks.2.2/pw_exp/bn/act/Relu_output_0 = Relu(%/net/model/blocks/blocks.2/blocks.2.2/pw_exp/conv/Conv_output_0)\n",
      "  %/net/model/blocks/blocks.2/blocks.2.2/dw_mid/conv/Conv_output_0 = Conv[dilations = [1, 1], group = 192, kernel_shape = [3, 3], pads = [1, 1, 1, 1], strides = [1, 1]](%/net/model/blocks/blocks.2/blocks.2.2/pw_exp/bn/act/Relu_output_0, %onnx::Conv_454, %onnx::Conv_455)\n",
      "  %/net/model/blocks/blocks.2/blocks.2.2/dw_mid/bn/act/Relu_output_0 = Relu(%/net/model/blocks/blocks.2/blocks.2.2/dw_mid/conv/Conv_output_0)\n",
      "  %/net/model/blocks/blocks.2/blocks.2.2/pw_proj/conv/Conv_output_0 = Conv[dilations = [1, 1], group = 1, kernel_shape = [1, 1], pads = [0, 0, 0, 0], strides = [1, 1]](%/net/model/blocks/blocks.2/blocks.2.2/dw_mid/bn/act/Relu_output_0, %onnx::Conv_457, %onnx::Conv_458)\n",
      "  %/net/model/blocks/blocks.2/blocks.2.2/Add_output_0 = Add(%/net/model/blocks/blocks.2/blocks.2.2/pw_proj/conv/Conv_output_0, %/net/model/blocks/blocks.2/blocks.2.1/Add_output_0)\n",
      "  %/net/model/blocks/blocks.2/blocks.2.3/pw_exp/conv/Conv_output_0 = Conv[dilations = [1, 1], group = 1, kernel_shape = [1, 1], pads = [0, 0, 0, 0], strides = [1, 1]](%/net/model/blocks/blocks.2/blocks.2.2/Add_output_0, %onnx::Conv_460, %onnx::Conv_461)\n",
      "  %/net/model/blocks/blocks.2/blocks.2.3/pw_exp/bn/act/Relu_output_0 = Relu(%/net/model/blocks/blocks.2/blocks.2.3/pw_exp/conv/Conv_output_0)\n",
      "  %/net/model/blocks/blocks.2/blocks.2.3/dw_mid/conv/Conv_output_0 = Conv[dilations = [1, 1], group = 192, kernel_shape = [3, 3], pads = [1, 1, 1, 1], strides = [1, 1]](%/net/model/blocks/blocks.2/blocks.2.3/pw_exp/bn/act/Relu_output_0, %onnx::Conv_463, %onnx::Conv_464)\n",
      "  %/net/model/blocks/blocks.2/blocks.2.3/dw_mid/bn/act/Relu_output_0 = Relu(%/net/model/blocks/blocks.2/blocks.2.3/dw_mid/conv/Conv_output_0)\n",
      "  %/net/model/blocks/blocks.2/blocks.2.3/pw_proj/conv/Conv_output_0 = Conv[dilations = [1, 1], group = 1, kernel_shape = [1, 1], pads = [0, 0, 0, 0], strides = [1, 1]](%/net/model/blocks/blocks.2/blocks.2.3/dw_mid/bn/act/Relu_output_0, %onnx::Conv_466, %onnx::Conv_467)\n",
      "  %/net/model/blocks/blocks.2/blocks.2.3/Add_output_0 = Add(%/net/model/blocks/blocks.2/blocks.2.3/pw_proj/conv/Conv_output_0, %/net/model/blocks/blocks.2/blocks.2.2/Add_output_0)\n",
      "  %/net/model/blocks/blocks.2/blocks.2.4/pw_exp/conv/Conv_output_0 = Conv[dilations = [1, 1], group = 1, kernel_shape = [1, 1], pads = [0, 0, 0, 0], strides = [1, 1]](%/net/model/blocks/blocks.2/blocks.2.3/Add_output_0, %onnx::Conv_469, %onnx::Conv_470)\n",
      "  %/net/model/blocks/blocks.2/blocks.2.4/pw_exp/bn/act/Relu_output_0 = Relu(%/net/model/blocks/blocks.2/blocks.2.4/pw_exp/conv/Conv_output_0)\n",
      "  %/net/model/blocks/blocks.2/blocks.2.4/dw_mid/conv/Conv_output_0 = Conv[dilations = [1, 1], group = 192, kernel_shape = [3, 3], pads = [1, 1, 1, 1], strides = [1, 1]](%/net/model/blocks/blocks.2/blocks.2.4/pw_exp/bn/act/Relu_output_0, %onnx::Conv_472, %onnx::Conv_473)\n",
      "  %/net/model/blocks/blocks.2/blocks.2.4/dw_mid/bn/act/Relu_output_0 = Relu(%/net/model/blocks/blocks.2/blocks.2.4/dw_mid/conv/Conv_output_0)\n",
      "  %/net/model/blocks/blocks.2/blocks.2.4/pw_proj/conv/Conv_output_0 = Conv[dilations = [1, 1], group = 1, kernel_shape = [1, 1], pads = [0, 0, 0, 0], strides = [1, 1]](%/net/model/blocks/blocks.2/blocks.2.4/dw_mid/bn/act/Relu_output_0, %onnx::Conv_475, %onnx::Conv_476)\n",
      "  %/net/model/blocks/blocks.2/blocks.2.4/Add_output_0 = Add(%/net/model/blocks/blocks.2/blocks.2.4/pw_proj/conv/Conv_output_0, %/net/model/blocks/blocks.2/blocks.2.3/Add_output_0)\n",
      "  %/net/model/blocks/blocks.2/blocks.2.5/dw_start/conv/Conv_output_0 = Conv[dilations = [1, 1], group = 96, kernel_shape = [3, 3], pads = [1, 1, 1, 1], strides = [1, 1]](%/net/model/blocks/blocks.2/blocks.2.4/Add_output_0, %onnx::Conv_478, %onnx::Conv_479)\n",
      "  %/net/model/blocks/blocks.2/blocks.2.5/pw_exp/conv/Conv_output_0 = Conv[dilations = [1, 1], group = 1, kernel_shape = [1, 1], pads = [0, 0, 0, 0], strides = [1, 1]](%/net/model/blocks/blocks.2/blocks.2.5/dw_start/conv/Conv_output_0, %onnx::Conv_481, %onnx::Conv_482)\n",
      "  %/net/model/blocks/blocks.2/blocks.2.5/pw_exp/bn/act/Relu_output_0 = Relu(%/net/model/blocks/blocks.2/blocks.2.5/pw_exp/conv/Conv_output_0)\n",
      "  %/net/model/blocks/blocks.2/blocks.2.5/pw_proj/conv/Conv_output_0 = Conv[dilations = [1, 1], group = 1, kernel_shape = [1, 1], pads = [0, 0, 0, 0], strides = [1, 1]](%/net/model/blocks/blocks.2/blocks.2.5/pw_exp/bn/act/Relu_output_0, %onnx::Conv_484, %onnx::Conv_485)\n",
      "  %/net/model/blocks/blocks.2/blocks.2.5/Add_output_0 = Add(%/net/model/blocks/blocks.2/blocks.2.5/pw_proj/conv/Conv_output_0, %/net/model/blocks/blocks.2/blocks.2.4/Add_output_0)\n",
      "  %/net/model/blocks/blocks.3/blocks.3.0/dw_start/conv/Conv_output_0 = Conv[dilations = [1, 1], group = 96, kernel_shape = [3, 3], pads = [1, 1, 1, 1], strides = [1, 1]](%/net/model/blocks/blocks.2/blocks.2.5/Add_output_0, %onnx::Conv_487, %onnx::Conv_488)\n",
      "  %/net/model/blocks/blocks.3/blocks.3.0/pw_exp/conv/Conv_output_0 = Conv[dilations = [1, 1], group = 1, kernel_shape = [1, 1], pads = [0, 0, 0, 0], strides = [1, 1]](%/net/model/blocks/blocks.3/blocks.3.0/dw_start/conv/Conv_output_0, %onnx::Conv_490, %onnx::Conv_491)\n",
      "  %/net/model/blocks/blocks.3/blocks.3.0/pw_exp/bn/act/Relu_output_0 = Relu(%/net/model/blocks/blocks.3/blocks.3.0/pw_exp/conv/Conv_output_0)\n",
      "  %/net/model/blocks/blocks.3/blocks.3.0/dw_mid/conv/Conv_output_0 = Conv[dilations = [1, 1], group = 576, kernel_shape = [3, 3], pads = [1, 1, 1, 1], strides = [2, 2]](%/net/model/blocks/blocks.3/blocks.3.0/pw_exp/bn/act/Relu_output_0, %onnx::Conv_493, %onnx::Conv_494)\n",
      "  %/net/model/blocks/blocks.3/blocks.3.0/dw_mid/bn/act/Relu_output_0 = Relu(%/net/model/blocks/blocks.3/blocks.3.0/dw_mid/conv/Conv_output_0)\n",
      "  %/net/model/blocks/blocks.3/blocks.3.0/pw_proj/conv/Conv_output_0 = Conv[dilations = [1, 1], group = 1, kernel_shape = [1, 1], pads = [0, 0, 0, 0], strides = [1, 1]](%/net/model/blocks/blocks.3/blocks.3.0/dw_mid/bn/act/Relu_output_0, %onnx::Conv_496, %onnx::Conv_497)\n",
      "  %/net/model/blocks/blocks.3/blocks.3.1/dw_start/conv/Conv_output_0 = Conv[dilations = [1, 1], group = 128, kernel_shape = [5, 5], pads = [2, 2, 2, 2], strides = [1, 1]](%/net/model/blocks/blocks.3/blocks.3.0/pw_proj/conv/Conv_output_0, %onnx::Conv_499, %onnx::Conv_500)\n",
      "  %/net/model/blocks/blocks.3/blocks.3.1/pw_exp/conv/Conv_output_0 = Conv[dilations = [1, 1], group = 1, kernel_shape = [1, 1], pads = [0, 0, 0, 0], strides = [1, 1]](%/net/model/blocks/blocks.3/blocks.3.1/dw_start/conv/Conv_output_0, %onnx::Conv_502, %onnx::Conv_503)\n",
      "  %/net/model/blocks/blocks.3/blocks.3.1/pw_exp/bn/act/Relu_output_0 = Relu(%/net/model/blocks/blocks.3/blocks.3.1/pw_exp/conv/Conv_output_0)\n",
      "  %/net/model/blocks/blocks.3/blocks.3.1/dw_mid/conv/Conv_output_0 = Conv[dilations = [1, 1], group = 512, kernel_shape = [5, 5], pads = [2, 2, 2, 2], strides = [1, 1]](%/net/model/blocks/blocks.3/blocks.3.1/pw_exp/bn/act/Relu_output_0, %onnx::Conv_505, %onnx::Conv_506)\n",
      "  %/net/model/blocks/blocks.3/blocks.3.1/dw_mid/bn/act/Relu_output_0 = Relu(%/net/model/blocks/blocks.3/blocks.3.1/dw_mid/conv/Conv_output_0)\n",
      "  %/net/model/blocks/blocks.3/blocks.3.1/pw_proj/conv/Conv_output_0 = Conv[dilations = [1, 1], group = 1, kernel_shape = [1, 1], pads = [0, 0, 0, 0], strides = [1, 1]](%/net/model/blocks/blocks.3/blocks.3.1/dw_mid/bn/act/Relu_output_0, %onnx::Conv_508, %onnx::Conv_509)\n",
      "  %/net/model/blocks/blocks.3/blocks.3.1/Add_output_0 = Add(%/net/model/blocks/blocks.3/blocks.3.1/pw_proj/conv/Conv_output_0, %/net/model/blocks/blocks.3/blocks.3.0/pw_proj/conv/Conv_output_0)\n",
      "  %/net/model/blocks/blocks.3/blocks.3.2/pw_exp/conv/Conv_output_0 = Conv[dilations = [1, 1], group = 1, kernel_shape = [1, 1], pads = [0, 0, 0, 0], strides = [1, 1]](%/net/model/blocks/blocks.3/blocks.3.1/Add_output_0, %onnx::Conv_511, %onnx::Conv_512)\n",
      "  %/net/model/blocks/blocks.3/blocks.3.2/pw_exp/bn/act/Relu_output_0 = Relu(%/net/model/blocks/blocks.3/blocks.3.2/pw_exp/conv/Conv_output_0)\n",
      "  %/net/model/blocks/blocks.3/blocks.3.2/dw_mid/conv/Conv_output_0 = Conv[dilations = [1, 1], group = 512, kernel_shape = [5, 5], pads = [2, 2, 2, 2], strides = [1, 1]](%/net/model/blocks/blocks.3/blocks.3.2/pw_exp/bn/act/Relu_output_0, %onnx::Conv_514, %onnx::Conv_515)\n",
      "  %/net/model/blocks/blocks.3/blocks.3.2/dw_mid/bn/act/Relu_output_0 = Relu(%/net/model/blocks/blocks.3/blocks.3.2/dw_mid/conv/Conv_output_0)\n",
      "  %/net/model/blocks/blocks.3/blocks.3.2/pw_proj/conv/Conv_output_0 = Conv[dilations = [1, 1], group = 1, kernel_shape = [1, 1], pads = [0, 0, 0, 0], strides = [1, 1]](%/net/model/blocks/blocks.3/blocks.3.2/dw_mid/bn/act/Relu_output_0, %onnx::Conv_517, %onnx::Conv_518)\n",
      "  %/net/model/blocks/blocks.3/blocks.3.2/Add_output_0 = Add(%/net/model/blocks/blocks.3/blocks.3.2/pw_proj/conv/Conv_output_0, %/net/model/blocks/blocks.3/blocks.3.1/Add_output_0)\n",
      "  %/net/model/blocks/blocks.3/blocks.3.3/pw_exp/conv/Conv_output_0 = Conv[dilations = [1, 1], group = 1, kernel_shape = [1, 1], pads = [0, 0, 0, 0], strides = [1, 1]](%/net/model/blocks/blocks.3/blocks.3.2/Add_output_0, %onnx::Conv_520, %onnx::Conv_521)\n",
      "  %/net/model/blocks/blocks.3/blocks.3.3/pw_exp/bn/act/Relu_output_0 = Relu(%/net/model/blocks/blocks.3/blocks.3.3/pw_exp/conv/Conv_output_0)\n",
      "  %/net/model/blocks/blocks.3/blocks.3.3/dw_mid/conv/Conv_output_0 = Conv[dilations = [1, 1], group = 384, kernel_shape = [5, 5], pads = [2, 2, 2, 2], strides = [1, 1]](%/net/model/blocks/blocks.3/blocks.3.3/pw_exp/bn/act/Relu_output_0, %onnx::Conv_523, %onnx::Conv_524)\n",
      "  %/net/model/blocks/blocks.3/blocks.3.3/dw_mid/bn/act/Relu_output_0 = Relu(%/net/model/blocks/blocks.3/blocks.3.3/dw_mid/conv/Conv_output_0)\n",
      "  %/net/model/blocks/blocks.3/blocks.3.3/pw_proj/conv/Conv_output_0 = Conv[dilations = [1, 1], group = 1, kernel_shape = [1, 1], pads = [0, 0, 0, 0], strides = [1, 1]](%/net/model/blocks/blocks.3/blocks.3.3/dw_mid/bn/act/Relu_output_0, %onnx::Conv_526, %onnx::Conv_527)\n",
      "  %/net/model/blocks/blocks.3/blocks.3.3/Add_output_0 = Add(%/net/model/blocks/blocks.3/blocks.3.3/pw_proj/conv/Conv_output_0, %/net/model/blocks/blocks.3/blocks.3.2/Add_output_0)\n",
      "  %/net/model/blocks/blocks.3/blocks.3.4/pw_exp/conv/Conv_output_0 = Conv[dilations = [1, 1], group = 1, kernel_shape = [1, 1], pads = [0, 0, 0, 0], strides = [1, 1]](%/net/model/blocks/blocks.3/blocks.3.3/Add_output_0, %onnx::Conv_529, %onnx::Conv_530)\n",
      "  %/net/model/blocks/blocks.3/blocks.3.4/pw_exp/bn/act/Relu_output_0 = Relu(%/net/model/blocks/blocks.3/blocks.3.4/pw_exp/conv/Conv_output_0)\n",
      "  %/net/model/blocks/blocks.3/blocks.3.4/dw_mid/conv/Conv_output_0 = Conv[dilations = [1, 1], group = 512, kernel_shape = [3, 3], pads = [1, 1, 1, 1], strides = [1, 1]](%/net/model/blocks/blocks.3/blocks.3.4/pw_exp/bn/act/Relu_output_0, %onnx::Conv_532, %onnx::Conv_533)\n",
      "  %/net/model/blocks/blocks.3/blocks.3.4/dw_mid/bn/act/Relu_output_0 = Relu(%/net/model/blocks/blocks.3/blocks.3.4/dw_mid/conv/Conv_output_0)\n",
      "  %/net/model/blocks/blocks.3/blocks.3.4/pw_proj/conv/Conv_output_0 = Conv[dilations = [1, 1], group = 1, kernel_shape = [1, 1], pads = [0, 0, 0, 0], strides = [1, 1]](%/net/model/blocks/blocks.3/blocks.3.4/dw_mid/bn/act/Relu_output_0, %onnx::Conv_535, %onnx::Conv_536)\n",
      "  %/net/model/blocks/blocks.3/blocks.3.4/Add_output_0 = Add(%/net/model/blocks/blocks.3/blocks.3.4/pw_proj/conv/Conv_output_0, %/net/model/blocks/blocks.3/blocks.3.3/Add_output_0)\n",
      "  %/net/model/blocks/blocks.3/blocks.3.5/pw_exp/conv/Conv_output_0 = Conv[dilations = [1, 1], group = 1, kernel_shape = [1, 1], pads = [0, 0, 0, 0], strides = [1, 1]](%/net/model/blocks/blocks.3/blocks.3.4/Add_output_0, %onnx::Conv_538, %onnx::Conv_539)\n",
      "  %/net/model/blocks/blocks.3/blocks.3.5/pw_exp/bn/act/Relu_output_0 = Relu(%/net/model/blocks/blocks.3/blocks.3.5/pw_exp/conv/Conv_output_0)\n",
      "  %/net/model/blocks/blocks.3/blocks.3.5/dw_mid/conv/Conv_output_0 = Conv[dilations = [1, 1], group = 512, kernel_shape = [3, 3], pads = [1, 1, 1, 1], strides = [1, 1]](%/net/model/blocks/blocks.3/blocks.3.5/pw_exp/bn/act/Relu_output_0, %onnx::Conv_541, %onnx::Conv_542)\n",
      "  %/net/model/blocks/blocks.3/blocks.3.5/dw_mid/bn/act/Relu_output_0 = Relu(%/net/model/blocks/blocks.3/blocks.3.5/dw_mid/conv/Conv_output_0)\n",
      "  %/net/model/blocks/blocks.3/blocks.3.5/pw_proj/conv/Conv_output_0 = Conv[dilations = [1, 1], group = 1, kernel_shape = [1, 1], pads = [0, 0, 0, 0], strides = [1, 1]](%/net/model/blocks/blocks.3/blocks.3.5/dw_mid/bn/act/Relu_output_0, %onnx::Conv_544, %onnx::Conv_545)\n",
      "  %/net/model/blocks/blocks.3/blocks.3.5/Add_output_0 = Add(%/net/model/blocks/blocks.3/blocks.3.5/pw_proj/conv/Conv_output_0, %/net/model/blocks/blocks.3/blocks.3.4/Add_output_0)\n",
      "  %/net/model/blocks/blocks.4/blocks.4.0/conv/Conv_output_0 = Conv[dilations = [1, 1], group = 1, kernel_shape = [1, 1], pads = [0, 0, 0, 0], strides = [1, 1]](%/net/model/blocks/blocks.3/blocks.3.5/Add_output_0, %onnx::Conv_547, %onnx::Conv_548)\n",
      "  %/net/model/blocks/blocks.4/blocks.4.0/bn1/act/Relu_output_0 = Relu(%/net/model/blocks/blocks.4/blocks.4.0/conv/Conv_output_0)\n",
      "  %/net/model/global_pool/pool/GlobalAveragePool_output_0 = GlobalAveragePool(%/net/model/blocks/blocks.4/blocks.4.0/bn1/act/Relu_output_0)\n",
      "  %/net/model/conv_head/Conv_output_0 = Conv[dilations = [1, 1], group = 1, kernel_shape = [1, 1], pads = [0, 0, 0, 0], strides = [1, 1]](%/net/model/global_pool/pool/GlobalAveragePool_output_0, %onnx::Conv_550, %onnx::Conv_551)\n",
      "  %/net/model/norm_head/act/Relu_output_0 = Relu(%/net/model/conv_head/Conv_output_0)\n",
      "  %/net/model/flatten/Flatten_output_0 = Flatten[axis = 1](%/net/model/norm_head/act/Relu_output_0)\n",
      "  %output = Gemm[alpha = 1, beta = 1, transB = 1](%/net/model/flatten/Flatten_output_0, %net.model.classifier.weight, %net.model.classifier.bias)\n",
      "  return %output\n",
      "}\n"
     ]
    }
   ],
   "source": [
    "onnx_model = onnx.load(ONNX_MODEL_NAME)\n",
    "onnx.checker.check_model(onnx_model)\n",
    "print(onnx.helper.printable_graph(onnx_model.graph))"
   ]
  },
  {
   "cell_type": "code",
   "outputs": [],
   "source": [],
   "metadata": {
    "collapsed": false
   },
   "id": "f04d288a7a82cd38"
  }
 ],
 "metadata": {
  "kernelspec": {
   "display_name": "Python 3 (ipykernel)",
   "language": "python",
   "name": "python3"
  },
  "language_info": {
   "codemirror_mode": {
    "name": "ipython",
    "version": 3
   },
   "file_extension": ".py",
   "mimetype": "text/x-python",
   "name": "python",
   "nbconvert_exporter": "python",
   "pygments_lexer": "ipython3",
   "version": "3.9.16"
  }
 },
 "nbformat": 4,
 "nbformat_minor": 5
}
