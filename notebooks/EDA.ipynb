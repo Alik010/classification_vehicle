{
 "cells": [
  {
   "cell_type": "markdown",
   "id": "0",
   "metadata": {},
   "source": [
    "## EDA"
   ]
  },
  {
   "cell_type": "code",
   "execution_count": null,
   "id": "1",
   "metadata": {},
   "outputs": [],
   "source": [
    "import json"
   ]
  },
  {
   "cell_type": "code",
   "execution_count": null,
   "id": "2",
   "metadata": {},
   "outputs": [],
   "source": [
    "train_filename = r'../dataset_coco/annotations/coco_annotations_train.json'\n",
    "val_filename = r'../dataset_coco/annotations/coco_annotations_test.json'\n",
    "test_filename = r'../dataset_coco/annotations/coco_annotations_val.json'\n"
   ]
  },
  {
   "cell_type": "code",
   "execution_count": null,
   "id": "3",
   "metadata": {},
   "outputs": [],
   "source": [
    "import json\n",
    "\n",
    "def count_data(filename):\n",
    "    with open(filename, 'r') as file:\n",
    "        data = json.load(file)\n",
    "        return len(data['images'])\n",
    "\n",
    "\n",
    "def count_category_data(filename):\n",
    "    category_count = {\n",
    "        \"is_up\": {\"false\": 0, \"true\": 0},\n",
    "        \"color\": {\"White\": 0, \"Yellow\": 0, \"No color\": 0},\n",
    "        \"count\": {\"undefined\": 0, \"K1\": 0, \"K2_1\": 0, \"K2_2\": 0, \"K3\": 0, \"K4\": 0}\n",
    "    }\n",
    "\n",
    "    with open(filename, 'r') as file:\n",
    "        data = json.load(file)\n",
    "\n",
    "        for annotation in data['annotations']:\n",
    "            is_up = annotation[\"is_up\"]\n",
    "            color = annotation[\"color\"]\n",
    "            count = annotation[\"count\"]\n",
    "\n",
    "            category_count[\"is_up\"][is_up] += 1\n",
    "            category_count[\"color\"][color] += 1\n",
    "            category_count[\"count\"][count] += 1\n",
    "\n",
    "        return category_count"
   ]
  },
  {
   "cell_type": "markdown",
   "id": "4",
   "metadata": {},
   "source": [
    "# 1. Количество данных в каждом файле"
   ]
  },
  {
   "cell_type": "code",
   "execution_count": null,
   "id": "5",
   "metadata": {},
   "outputs": [],
   "source": [
    "train_count = count_data(train_filename)\n",
    "val_count = count_data(val_filename)\n",
    "test_count = count_data(test_filename)\n",
    "\n",
    "print(f'Количество данных в train файле: {train_count}')\n",
    "print(f'Количество данных в val файле: {val_count}')\n",
    "print(f'Количество данных в test файле: {test_count}')"
   ]
  },
  {
   "cell_type": "markdown",
   "id": "6",
   "metadata": {},
   "source": [
    "# 2. Количество данных по лейблам"
   ]
  },
  {
   "cell_type": "code",
   "execution_count": null,
   "id": "7",
   "metadata": {},
   "outputs": [],
   "source": [
    "train_category_count = count_category_data(train_filename)\n",
    "val_category_count = count_category_data(val_filename)\n",
    "test_category_count = count_category_data(test_filename)"
   ]
  },
  {
   "cell_type": "code",
   "execution_count": null,
   "id": "8",
   "metadata": {},
   "outputs": [],
   "source": [
    "for i, data in enumerate([train_category_count, val_category_count, test_category_count]):\n",
    "\n",
    "    if i == 0:\n",
    "        k = \"Train\"\n",
    "    elif i == 1:\n",
    "        k = \"Val\"\n",
    "    elif i == 2:\n",
    "        k = \"Test\"\n",
    "\n",
    "    is_up_false = data[\"is_up\"][\"false\"]\n",
    "    is_up_true = data[\"is_up\"][\"true\"]\n",
    "\n",
    "    color_White = data[\"color\"][\"White\"]\n",
    "    color_Yellow = data[\"color\"][\"Yellow\"]\n",
    "    color_Nocolor = data[\"color\"][\"No color\"]\n",
    "\n",
    "    count_undefined = data[\"count\"][\"undefined\"]\n",
    "    count_K1 = data[\"count\"][\"K1\"]\n",
    "    count_K2_1 = data[\"count\"][\"K2_1\"]\n",
    "    count_K2_2 = data[\"count\"][\"K2_2\"]\n",
    "    count_K3 = data[\"count\"][\"K3\"]\n",
    "    count_K4 = data[\"count\"][\"K4\"]\n",
    "\n",
    "    print(\n",
    "        f\"{k} - is_up: false: {is_up_false}, true: {is_up_true}\\n\"\n",
    "        f\"        color: White: {color_White}, Yellow: {color_Yellow}, No color: {color_Nocolor}\\n\"\n",
    "        f\"        count: undefined: {count_undefined}, K1: {count_K1}, K2_1: {count_K2_1}, K2_2: {count_K2_2}, K3: {count_K3}, K4: {count_K4}\")"
   ]
  },
  {
   "cell_type": "markdown",
   "id": "9",
   "metadata": {},
   "source": [
    "# 3. Аугментация"
   ]
  },
  {
   "cell_type": "code",
   "execution_count": null,
   "id": "10",
   "metadata": {},
   "outputs": [],
   "source": [
    "from src.data.components.augmentation import get_transforms_from_config\n",
    "import numpy as np\n",
    "import matplotlib.pyplot as plt\n",
    "import PIL.Image as Image\n",
    "import os"
   ]
  },
  {
   "cell_type": "code",
   "execution_count": null,
   "id": "11",
   "metadata": {},
   "outputs": [],
   "source": [
    "path_config_transform = \"../configs/data/augmentation_train.yaml\"\n",
    "test_image = \"../dataset_coco/images/1658918826546_00049000_2.jpg\"\n",
    "transforms=get_transforms_from_config(path_config_transform)"
   ]
  },
  {
   "cell_type": "code",
   "execution_count": null,
   "id": "12",
   "metadata": {},
   "outputs": [],
   "source": [
    "image_pil = Image.open(test_image).convert(\"RGB\")\n",
    "image = np.array(image_pil)\n",
    "print(\"Размер изображения до трансформации: \", image.shape)\n",
    "#оригинальное изображение\n",
    "image_pil.show()"
   ]
  },
  {
   "cell_type": "code",
   "execution_count": null,
   "id": "13",
   "metadata": {},
   "outputs": [],
   "source": [
    "transform_image = transforms(image = image)\n",
    "img_np = transform_image[\"image\"]\n",
    "print(\"Размер изображения после трансформации: \", img_np.shape)"
   ]
  },
  {
   "cell_type": "code",
   "execution_count": null,
   "id": "14",
   "metadata": {},
   "outputs": [],
   "source": [
    "img_np = transform_image[\"image\"]\n",
    "mean = np.array([0.485, 0.456, 0.406])\n",
    "std = np.array([0.229, 0.224, 0.225])\n",
    "\n",
    "# Обратное преобразование (inverse normalization)\n",
    "img_np = std * img_np + mean\n",
    "img_np = np.clip(img_np, 0, 1)\n",
    "\n",
    "augmented_image_pil = Image.fromarray((img_np * 255).astype(np.uint8))\n",
    "#изображение после аушментации\n",
    "augmented_image_pil.show()"
   ]
  },
  {
   "cell_type": "code",
   "id": "15",
   "metadata": {},
   "outputs": [],
   "source": []
  }
 ],
 "metadata": {
  "kernelspec": {
   "display_name": "Python 3 (ipykernel)",
   "language": "python",
   "name": "python3"
  },
  "language_info": {
   "codemirror_mode": {
    "name": "ipython",
    "version": 3
   },
   "file_extension": ".py",
   "mimetype": "text/x-python",
   "name": "python",
   "nbconvert_exporter": "python",
   "pygments_lexer": "ipython3",
   "version": "3.9.16"
  }
 },
 "nbformat": 4,
 "nbformat_minor": 5
}
